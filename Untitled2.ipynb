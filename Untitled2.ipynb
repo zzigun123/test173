{
  "nbformat": 4,
  "nbformat_minor": 0,
  "metadata": {
    "colab": {
      "name": "Untitled2.ipynb",
      "provenance": [],
      "authorship_tag": "ABX9TyP1Z4cw9LN/UEdLXlXwtRcG",
      "include_colab_link": true
    },
    "kernelspec": {
      "name": "python3",
      "display_name": "Python 3"
    },
    "language_info": {
      "name": "python"
    }
  },
  "cells": [
    {
      "cell_type": "markdown",
      "metadata": {
        "id": "view-in-github",
        "colab_type": "text"
      },
      "source": [
        "<a href=\"https://colab.research.google.com/github/zzigun123/test173/blob/main/Untitled2.ipynb\" target=\"_parent\"><img src=\"https://colab.research.google.com/assets/colab-badge.svg\" alt=\"Open In Colab\"/></a>"
      ]
    },
    {
      "cell_type": "code",
      "execution_count": 1,
      "metadata": {
        "colab": {
          "base_uri": "https://localhost:8080/"
        },
        "id": "aq76P4aX__FR",
        "outputId": "98c216d9-3ee1-45ee-e5b4-982c2f66e9f7"
      },
      "outputs": [
        {
          "output_type": "stream",
          "name": "stdout",
          "text": [
            "Happy New Year~~!!!\n",
            "11206 박준성\n",
            "한양공고\n"
          ]
        }
      ],
      "source": [
        "print(\"Happy New Year~~!!!\")\n",
        "print(\"11206 박준성\")\n",
        "print(\"한양공고\")"
      ]
    }
  ]
}